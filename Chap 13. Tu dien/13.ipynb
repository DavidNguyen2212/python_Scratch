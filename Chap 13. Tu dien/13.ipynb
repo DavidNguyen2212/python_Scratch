{
 "cells": [
  {
   "cell_type": "markdown",
   "metadata": {},
   "source": [
    "*GIỚI THIỆU*\n",
    "\n",
    "Từ điển không phải kiểu tuần tự (container), mà là một cấu trúc dưới dạng các cặp khóa, giá trị"
   ]
  },
  {
   "cell_type": "markdown",
   "metadata": {},
   "source": [
    "- Khóa: có thể là kiểu số, xâu, tuple nhưng không được là ~~list~~\n",
    "- Giá trị: bất kỳ, kể cả tập hợp"
   ]
  },
  {
   "cell_type": "code",
   "execution_count": 1,
   "metadata": {},
   "outputs": [
    {
     "data": {
      "text/plain": [
       "['__class__',\n",
       " '__class_getitem__',\n",
       " '__contains__',\n",
       " '__delattr__',\n",
       " '__delitem__',\n",
       " '__dir__',\n",
       " '__doc__',\n",
       " '__eq__',\n",
       " '__format__',\n",
       " '__ge__',\n",
       " '__getattribute__',\n",
       " '__getitem__',\n",
       " '__getstate__',\n",
       " '__gt__',\n",
       " '__hash__',\n",
       " '__init__',\n",
       " '__init_subclass__',\n",
       " '__ior__',\n",
       " '__iter__',\n",
       " '__le__',\n",
       " '__len__',\n",
       " '__lt__',\n",
       " '__ne__',\n",
       " '__new__',\n",
       " '__or__',\n",
       " '__reduce__',\n",
       " '__reduce_ex__',\n",
       " '__repr__',\n",
       " '__reversed__',\n",
       " '__ror__',\n",
       " '__setattr__',\n",
       " '__setitem__',\n",
       " '__sizeof__',\n",
       " '__str__',\n",
       " '__subclasshook__',\n",
       " 'clear',\n",
       " 'copy',\n",
       " 'fromkeys',\n",
       " 'get',\n",
       " 'items',\n",
       " 'keys',\n",
       " 'pop',\n",
       " 'popitem',\n",
       " 'setdefault',\n",
       " 'update',\n",
       " 'values']"
      ]
     },
     "execution_count": 1,
     "metadata": {},
     "output_type": "execute_result"
    }
   ],
   "source": [
    "dir(dict)"
   ]
  },
  {
   "cell_type": "markdown",
   "metadata": {},
   "source": [
    "1. Phương thức keys() và values()"
   ]
  },
  {
   "cell_type": "code",
   "execution_count": 4,
   "metadata": {},
   "outputs": [
    {
     "name": "stdout",
     "output_type": "stream",
     "text": [
      "dict_keys(['Toán', 'Hóa', 'Văn', 'Sinh'])\n",
      "Toán\n",
      "Hóa\n",
      "Văn\n",
      "Sinh\n"
     ]
    }
   ],
   "source": [
    "# keys lấy ra cấu trúc danh sách các khóa\n",
    "student = {}\n",
    "student[\"Toán\"] = 9.5\n",
    "student[\"Hóa\"] = 4.5\n",
    "student[\"Văn\"] = 5.5\n",
    "student[\"Sinh\"] = 10\n",
    "\n",
    "print(student.keys())\n",
    "for mon in student.keys():  \n",
    "    print(mon)"
   ]
  },
  {
   "cell_type": "code",
   "execution_count": 6,
   "metadata": {},
   "outputs": [
    {
     "name": "stdout",
     "output_type": "stream",
     "text": [
      "dict_values([9.5, 4.5, 5.5, 10])\n",
      "9.5\n",
      "4.5\n",
      "5.5\n",
      "10\n"
     ]
    }
   ],
   "source": [
    "# Tương tự cho phương thức values()\n",
    "print(student.values())\n",
    "for diem in student.values():\n",
    "    print(diem)"
   ]
  },
  {
   "cell_type": "code",
   "execution_count": 7,
   "metadata": {},
   "outputs": [
    {
     "name": "stdout",
     "output_type": "stream",
     "text": [
      "Điểm môn Toán   là: 9.5 \n",
      "Điểm môn Hóa    là: 4.5 \n",
      "Điểm môn Văn    là: 5.5 \n",
      "Điểm môn Sinh   là: 10 \n"
     ]
    }
   ],
   "source": [
    "for key in student.keys():\n",
    "    print(\"Điểm môn {:6} là: {} \".format(key, student[key]))    # như map C++, ta có thể truy xuất kiểu index"
   ]
  },
  {
   "cell_type": "code",
   "execution_count": 21,
   "metadata": {},
   "outputs": [
    {
     "data": {
      "text/plain": [
       "['Hóa', 'Sinh', 'Toán', 'Văn']"
      ]
     },
     "execution_count": 21,
     "metadata": {},
     "output_type": "execute_result"
    }
   ],
   "source": [
    "sorted(student)"
   ]
  },
  {
   "cell_type": "markdown",
   "metadata": {},
   "source": [
    "2. Phương thức items()\n",
    "- Cho phép vừa duyệt khóa và giá trị"
   ]
  },
  {
   "cell_type": "code",
   "execution_count": 24,
   "metadata": {},
   "outputs": [
    {
     "name": "stdout",
     "output_type": "stream",
     "text": [
      "Toán 9.5\n",
      "Hóa 4.5\n",
      "Văn 5.5\n",
      "Sinh 10\n"
     ]
    },
    {
     "data": {
      "text/plain": [
       "[('Hóa', 4.5), ('Sinh', 10), ('Toán', 9.5), ('Văn', 5.5)]"
      ]
     },
     "execution_count": 24,
     "metadata": {},
     "output_type": "execute_result"
    }
   ],
   "source": [
    "for mon, diem in student.items():\n",
    "    print(mon, diem)\n",
    "sorted(student.items())"
   ]
  },
  {
   "cell_type": "markdown",
   "metadata": {},
   "source": [
    "3. Phương thức update()\n",
    "- dictOb.update(T2), với T2 là một từ điển khác, nhưng có các giá trị khóa giống / tập con của dictOb\n",
    "- Nó sẽ sửa các trường giống: lấy giá trị mới nhất từ T2. Thêm các trường mới từ T2 vào (nếu có)"
   ]
  },
  {
   "cell_type": "code",
   "execution_count": 25,
   "metadata": {},
   "outputs": [
    {
     "data": {
      "text/plain": [
       "{'Toán': 9.5, 'Hóa': 4.5, 'Văn': 5.5, 'Sinh': 10}"
      ]
     },
     "execution_count": 25,
     "metadata": {},
     "output_type": "execute_result"
    }
   ],
   "source": [
    "student"
   ]
  },
  {
   "cell_type": "code",
   "execution_count": 30,
   "metadata": {},
   "outputs": [
    {
     "data": {
      "text/plain": [
       "{'Toán': 12, 'Hóa': 4.5, 'Văn': 9.5, 'Sinh': 10, 'Vẽ': 10}"
      ]
     },
     "execution_count": 30,
     "metadata": {},
     "output_type": "execute_result"
    }
   ],
   "source": [
    "T = {\"Toán\":12, \"Văn\": 9.5, \"Vẽ\": 10}\n",
    "student.update(T)\n",
    "student"
   ]
  },
  {
   "cell_type": "markdown",
   "metadata": {},
   "source": [
    "4. Phương thức get()\n",
    "- dictOb.get(key [, default_value]): giúp ta trả về giá trị default (mặc định NoneType) khi không có tìm \n",
    "được value ứng với key"
   ]
  },
  {
   "cell_type": "code",
   "execution_count": 31,
   "metadata": {},
   "outputs": [
    {
     "data": {
      "text/plain": [
       "12"
      ]
     },
     "execution_count": 31,
     "metadata": {},
     "output_type": "execute_result"
    }
   ],
   "source": [
    "student.get(\"Toán\")"
   ]
  },
  {
   "cell_type": "code",
   "execution_count": 34,
   "metadata": {},
   "outputs": [
    {
     "data": {
      "text/plain": [
       "'Chưa có điểm trung bình'"
      ]
     },
     "execution_count": 34,
     "metadata": {},
     "output_type": "execute_result"
    }
   ],
   "source": [
    "student.get(\"Tin\", \"Chưa có điểm trung bình\")"
   ]
  },
  {
   "cell_type": "code",
   "execution_count": 36,
   "metadata": {},
   "outputs": [
    {
     "name": "stdout",
     "output_type": "stream",
     "text": [
      "Điểm môn Toán là: 12\n",
      "Điểm môn Tin  là: Chưa có điểm\n",
      "Điểm môn Vẽ   là: 10\n",
      "Điểm môn Hóa  là: 4.5\n",
      "Điểm môn Sinh là: 10\n"
     ]
    }
   ],
   "source": [
    "daymon = [\"Toán\", \"Tin\", \"Vẽ\", \"Hóa\", \"Sinh\"]\n",
    "for mon in daymon:\n",
    "    print(\"Điểm môn {:4} là: {}\".format(mon, student.get(mon, \"Chưa có điểm\")))"
   ]
  },
  {
   "cell_type": "code",
   "execution_count": null,
   "metadata": {},
   "outputs": [],
   "source": []
  },
  {
   "cell_type": "code",
   "execution_count": 3,
   "metadata": {},
   "outputs": [
    {
     "name": "stdout",
     "output_type": "stream",
     "text": [
      "{'Tên': 'Nguyễn Văn A', 'Chủ nhiệm': '9c', 'Tuổi': 30}\n"
     ]
    },
    {
     "data": {
      "text/plain": [
       "{'Chủ nhiệm': '9c', 'Tuổi': 30}"
      ]
     },
     "execution_count": 3,
     "metadata": {},
     "output_type": "execute_result"
    }
   ],
   "source": [
    "# Xóa một cặp key-value của từ điển \n",
    "teacher = {\"Tên\": \"Nguyễn Văn A\", \"Chủ nhiệm\": \"9c\", \"Tuổi\": 30}\n",
    "print(teacher)\n",
    "del teacher[\"Tên\"]\n",
    "teacher"
   ]
  },
  {
   "cell_type": "code",
   "execution_count": 48,
   "metadata": {},
   "outputs": [
    {
     "data": {
      "text/plain": [
       "['Voluptates',\n",
       " 'laboriosam',\n",
       " 'odit',\n",
       " 'neque',\n",
       " 'ipsa',\n",
       " 'nulla',\n",
       " 'omnis',\n",
       " 'doloribus,',\n",
       " 'eveniet',\n",
       " 'quaerat',\n",
       " 'alias',\n",
       " 'porro',\n",
       " 'ipsum',\n",
       " 'eaque',\n",
       " 'error',\n",
       " 'ipsam',\n",
       " 'eos',\n",
       " 'tenetur',\n",
       " 'dicta,',\n",
       " 'minus',\n",
       " 'consectetur',\n",
       " 'eveniet,',\n",
       " 'velit',\n",
       " 'beatae',\n",
       " 'culpa',\n",
       " 'soluta',\n",
       " 'magnam',\n",
       " 'accusantium',\n",
       " 'incidunt',\n",
       " 'architecto',\n",
       " 'at.']"
      ]
     },
     "execution_count": 48,
     "metadata": {},
     "output_type": "execute_result"
    }
   ],
   "source": [
    "from lorem_text import lorem\n",
    "s = lorem.sentence()\n",
    "s.split()\n"
   ]
  },
  {
   "cell_type": "code",
   "execution_count": 49,
   "metadata": {},
   "outputs": [
    {
     "name": "stdout",
     "output_type": "stream",
     "text": [
      "This 1\n",
      "may 1\n",
      "be 3\n",
      "is 1\n",
      "this 1\n",
      "cc 2\n",
      "seem 1\n",
      "wow 1\n",
      "either 1\n",
      "or 4\n",
      "false 1\n",
      "ro 1\n"
     ]
    }
   ],
   "source": [
    "# Chương trình sau dùng để tính và đếm số lần lặp lại\n",
    "s = \"This may be be is this cc seem be cc wow either or or false ro or or\"\n",
    "A = s.split()\n",
    "dic = {}\n",
    "for w in A:\n",
    "    dic[w] = dic.get(w,0) + 1\n",
    "for key in dic:\n",
    "    print(key, dic[key])"
   ]
  },
  {
   "cell_type": "code",
   "execution_count": 17,
   "metadata": {},
   "outputs": [
    {
     "name": "stdout",
     "output_type": "stream",
     "text": [
      "85\n",
      "C\n",
      "D\n"
     ]
    }
   ],
   "source": [
    "'''\n",
    "            X\n",
    "            |\n",
    "            A\n",
    "        //  ||  \\\\\n",
    "        B    C    D\n",
    "          \\\\||// \n",
    "             E      \n",
    "'''\n",
    "# THeo Mro, E sẽ tìm foo theo thứ tự D, C, B (thứ tự khai báo trong ()), A, X\n",
    "# nếu gặp foo của D, nó dừng luôn\n",
    "# Tuy nhiên, nếu có sự xuất hiện của super().foo() thì nó cất print(\"D\") vào ngăn xếp\n",
    "# sau đó đi tính tham số i*i. tham số này không được in ra ngay \n",
    "# Nó sẽ duyệt tiếp qua C để tìm hàm foo, nếu có:\n",
    "# - Không có super: thực hiện foo của C sau đó dừng\n",
    "# - Có super: tham số nhận vào chính là kết quả i*i ở bước trước. cất print(\"C\") vào ngăn xếp\n",
    "# Tiếp tục duyệt qua B (truyền tham số vừa tính cho B), đến A. Đến A, không còn super nên dừng lại.\n",
    "# Không duyệt X nữa \n",
    "class X:\n",
    "    def foo(self, i):\n",
    "        print(i+1)\n",
    "class A(X):\n",
    "    def foo(self, i):\n",
    "        print(i)\n",
    "class B(A):\n",
    "    def foo(self, i):\n",
    "        super().foo(i*5)    # đem 17 làm tham số, => 85. mở ngăn xếp. Kết quả 85 C D\n",
    "class C(A):\n",
    "    def foo(self, i):\n",
    "        super().foo(i+1)    # đem 16 làm tham số, => 17, thêm C vào ngăn xếp\n",
    "        print(\"C\")\n",
    "class D(A):\n",
    "    def foo(self, i):\n",
    "        super().foo(i*i)    # foo(16), ngăn xếp: D.\n",
    "        print(\"D\")\n",
    "        # print(\"D\")\n",
    "class E(D, C, B): pass\n",
    "\n",
    "x = E()\n",
    "x.foo(4)"
   ]
  }
 ],
 "metadata": {
  "kernelspec": {
   "display_name": "Python 3",
   "language": "python",
   "name": "python3"
  },
  "language_info": {
   "codemirror_mode": {
    "name": "ipython",
    "version": 3
   },
   "file_extension": ".py",
   "mimetype": "text/x-python",
   "name": "python",
   "nbconvert_exporter": "python",
   "pygments_lexer": "ipython3",
   "version": "3.12.2"
  }
 },
 "nbformat": 4,
 "nbformat_minor": 2
}
