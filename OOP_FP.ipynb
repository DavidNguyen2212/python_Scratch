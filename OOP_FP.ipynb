{
 "cells": [
  {
   "cell_type": "code",
   "execution_count": 9,
   "metadata": {},
   "outputs": [
    {
     "data": {
      "text/plain": [
       "[1, 4, 9]"
      ]
     },
     "execution_count": 9,
     "metadata": {},
     "output_type": "execute_result"
    }
   ],
   "source": [
    "# 1. Use recursive approach to write a function lstSquare(n:Int) that returns \n",
    "# a list of the squares of the numbers from 1 to n?\n",
    "def lstSquare(n:int)->list:\n",
    "    if n == 1:\n",
    "        return [1]\n",
    "    else:\n",
    "        return lstSquare(n-1) + [n*n] \n",
    "\n",
    "lstSquare(3)"
   ]
  },
  {
   "cell_type": "code",
   "execution_count": null,
   "metadata": {},
   "outputs": [],
   "source": [
    "# 2. Use LC approach to write a function lstSquare(n:Int) that returns \n",
    "# a list of the squares of the numbers from 1 to n?\n",
    "def lstSquare(n:int)->list:\n",
    "    return [x*x for x in range(1,n+1)]\n",
    "\n",
    "lstSquare(3)"
   ]
  },
  {
   "cell_type": "code",
   "execution_count": 10,
   "metadata": {},
   "outputs": [
    {
     "data": {
      "text/plain": [
       "[1, 4, 9]"
      ]
     },
     "execution_count": 10,
     "metadata": {},
     "output_type": "execute_result"
    }
   ],
   "source": [
    "# 3. Use high-order function approach to write a function lstSquare(n:Int) that returns \n",
    "# a list of the squares of the numbers from 1 to n?\n",
    "def lstSquare(n:int)->list:\n",
    "    return list(map(lambda x: x*x, range(1,n+1)))\n",
    "\n",
    "lstSquare(3)"
   ]
  },
  {
   "cell_type": "code",
   "execution_count": 14,
   "metadata": {},
   "outputs": [
    {
     "data": {
      "text/plain": [
       "[(1, 4), (2, 4), (3, 4)]"
      ]
     },
     "execution_count": 14,
     "metadata": {},
     "output_type": "execute_result"
    }
   ],
   "source": [
    "# 4. Let lst be a list of integer and n be any value, use recursive approach to \n",
    "# write function dist(lst,n) that returns the list of pairs of an element of lst and n.\n",
    "def dist(lst: list, n: int) -> list:\n",
    "    if len(lst) == 0:\n",
    "        return []\n",
    "    else:\n",
    "        return [(lst[0], n)] + dist(lst[1:], n)\n",
    "dist([1,2,3],4)"
   ]
  },
  {
   "cell_type": "code",
   "execution_count": 11,
   "metadata": {},
   "outputs": [
    {
     "data": {
      "text/plain": [
       "[(1, 4), (2, 4), (3, 4)]"
      ]
     },
     "execution_count": 11,
     "metadata": {},
     "output_type": "execute_result"
    }
   ],
   "source": [
    "# 5. Let lst be a list of integer and n be any value, use list comprehension approach to \n",
    "# write function dist(lst,n) that returns the list of pairs of an element of lst and n.\n",
    "def dist(lst: list, n: int) -> list:\n",
    "    return [(x, n) for x in lst]\n",
    "dist([1,2,3],4)"
   ]
  },
  {
   "cell_type": "code",
   "execution_count": 13,
   "metadata": {},
   "outputs": [
    {
     "data": {
      "text/plain": [
       "[(1, 4), (2, 4), (3, 4)]"
      ]
     },
     "execution_count": 13,
     "metadata": {},
     "output_type": "execute_result"
    }
   ],
   "source": [
    "# 6. Let lst be a list of integer and n be any value, use list comprehension approach to \n",
    "# write function dist(lst,n) that returns the list of pairs of an element of lst and n.\n",
    "def dist(lst: list, n: int) -> list:\n",
    "    return list(map(lambda x: (x, n), lst))\n",
    "dist([1,2,3],4)"
   ]
  },
  {
   "cell_type": "code",
   "execution_count": 32,
   "metadata": {},
   "outputs": [
    {
     "data": {
      "text/plain": [
       "[2, 1]"
      ]
     },
     "execution_count": 32,
     "metadata": {},
     "output_type": "execute_result"
    }
   ],
   "source": [
    "# 7. Let lst be a list of integer and n be an integer, use Recursive approach to \n",
    "# write function lessThan(lst,n) that returns the list of all numbers in lst less than n.\n",
    "def lessThan2(lst: list, n: int, result: list = []) -> list:\n",
    "    if len(lst) == 0:\n",
    "        return result\n",
    "    elif lst[0] < n:\n",
    "        return lessThan2(lst[1:], n, result + [lst[0]])\n",
    "    else:\n",
    "        return lessThan2(lst[1:], n, result)\n",
    "def lessThan(lst: list, n: int) -> list:\n",
    "    return lessThan2(lst, n, [])\n",
    "lessThan([5,2,6,4,1],4)"
   ]
  },
  {
   "cell_type": "code",
   "execution_count": 15,
   "metadata": {},
   "outputs": [
    {
     "data": {
      "text/plain": [
       "[2, 1]"
      ]
     },
     "execution_count": 15,
     "metadata": {},
     "output_type": "execute_result"
    }
   ],
   "source": [
    "# 8. Let lst be a list of integer and n be an integer, use list comprehension approach to \n",
    "# write function lessThan(lst,n) that returns the list of all numbers in lst less than n.\n",
    "def lessThan(lst: list, n: int) -> list:\n",
    "    return [x for x in lst if x < n] \n",
    "lessThan([5,2,6,4,1],4)"
   ]
  },
  {
   "cell_type": "code",
   "execution_count": 17,
   "metadata": {},
   "outputs": [
    {
     "data": {
      "text/plain": [
       "[2, 1]"
      ]
     },
     "execution_count": 17,
     "metadata": {},
     "output_type": "execute_result"
    }
   ],
   "source": [
    "# 9. Let lst be a list of integer and n be an integer, use list comprehension approach to \n",
    "# write function lessThan(lst,n) that returns the list of all numbers in lst less than n.\n",
    "def lessThan(lst: list, n: int) -> list:\n",
    "    return list(filter(lambda x: x < n, lst))\n",
    "lessThan([5,2,6,4,1],4)\n",
    "from functools import reduce\n",
    "def lessThan2(lst: list, n: int) -> list:\n",
    "    return list(reduce(lambda prev, curr: prev + [curr] if curr < n else prev + [], lst, []))\n",
    "lessThan2([5,2,6,4,1],4)"
   ]
  },
  {
   "cell_type": "code",
   "execution_count": 35,
   "metadata": {},
   "outputs": [
    {
     "data": {
      "text/plain": [
       "[1, 2, 3, 4, 5, 6, 7]"
      ]
     },
     "execution_count": 35,
     "metadata": {},
     "output_type": "execute_result"
    }
   ],
   "source": [
    "# 10. Let lst be a list of a list of element, use list comprehension approach to write function \n",
    "# flatten(lst) that returns the list of all elements\n",
    "def flatten(lst):\n",
    "    if len(lst) == 0:\n",
    "        return []\n",
    "    else:\n",
    "        return lst[0] + flatten(lst[1:])\n",
    "flatten([[1,2,3],[4,5],[6,7]])"
   ]
  },
  {
   "cell_type": "code",
   "execution_count": 33,
   "metadata": {},
   "outputs": [
    {
     "data": {
      "text/plain": [
       "[1, 2, 3, 4, 5, 6, 7]"
      ]
     },
     "execution_count": 33,
     "metadata": {},
     "output_type": "execute_result"
    }
   ],
   "source": [
    "# 11. Let lst be a list of a list of element, use list comprehension approach to write function \n",
    "# flatten(lst) that returns the list of all elements\n",
    "def flatten(lst):\n",
    "    return [x for ele in lst for x in ele]\n",
    "flatten([[1,2,3],[4,5],[6,7]])"
   ]
  },
  {
   "cell_type": "code",
   "execution_count": 36,
   "metadata": {},
   "outputs": [
    {
     "data": {
      "text/plain": [
       "[1, 2, 3, 4, 5, 6, 7]"
      ]
     },
     "execution_count": 36,
     "metadata": {},
     "output_type": "execute_result"
    }
   ],
   "source": [
    "# 12. Let lst be a list of a list of element, use highorder approach to write function \n",
    "# flatten(lst) that returns the list of all elements\n",
    "def flatten(lst):\n",
    "    return list(reduce(lambda prev, curr: prev + curr, lst, []))\n",
    "flatten([[1,2,3],[4,5],[6,7]])"
   ]
  },
  {
   "cell_type": "code",
   "execution_count": 1,
   "metadata": {},
   "outputs": [],
   "source": [
    "# 13. OOP\n",
    "class Exp: pass\n",
    "class IntLit(Exp):\n",
    "    def __init__(self, num):\n",
    "        self.num = num\n",
    "    def eval(self):\n",
    "        return self.num\n",
    "\n",
    "class FloatLit(Exp):\n",
    "    def __init__(self, num):\n",
    "        self.num = num\n",
    "    def eval(self):\n",
    "        return self.num\n",
    "\n",
    "class BinExp(Exp):\n",
    "    def __init__(self, first_op, oprt, second_op):\n",
    "        self.first_op = first_op\n",
    "        self.oprt = oprt\n",
    "        self.second_op = second_op\n",
    "    def eval(self):\n",
    "        left = self.first_op.eval()\n",
    "        right = self.second_op.eval()\n",
    "        if self.oprt == \"+\":\n",
    "            return left + right\n",
    "        elif self.oprt == \"-\":\n",
    "            return left - right\n",
    "        elif self.oprt == \"*\":\n",
    "            return left * right\n",
    "        elif self.oprt == \"/\":\n",
    "            return left / right\n",
    "        \n",
    "class UnExp(Exp):\n",
    "    def __init__(self, oprt, operand):\n",
    "        self.oprt = oprt\n",
    "        self.operand = operand\n",
    "    def eval(self):\n",
    "        value = self.operand.eval()\n",
    "        return -value if self.oprt == \"-\" else value\n",
    "\n"
   ]
  },
  {
   "cell_type": "code",
   "execution_count": 3,
   "metadata": {},
   "outputs": [],
   "source": [
    "# 14. OOP\n",
    "class Exp: pass\n",
    "class IntLit(Exp):\n",
    "    def __init__(self, num):\n",
    "        self.num = num\n",
    "    def eval(self):\n",
    "        return self.num\n",
    "    def printPrefix(self):\n",
    "        return str(self.num)\n",
    "\n",
    "class FloatLit(Exp):\n",
    "    def __init__(self, num):\n",
    "        self.num = num\n",
    "    def eval(self):\n",
    "        return self.num\n",
    "    def printPrefix(self):\n",
    "        return str(self.num)\n",
    "    \n",
    "class BinExp(Exp):\n",
    "    def __init__(self, first_op, oprt, second_op):\n",
    "        self.first_op = first_op\n",
    "        self.oprt = oprt\n",
    "        self.second_op = second_op\n",
    "    def eval(self):\n",
    "        left = self.first_op.eval()\n",
    "        right = self.second_op.eval()\n",
    "        if self.oprt == \"+\":\n",
    "            return left + right\n",
    "        elif self.oprt == \"-\":\n",
    "            return left - right\n",
    "        elif self.oprt == \"*\":\n",
    "            return left * right\n",
    "        elif self.oprt == \"/\":\n",
    "            return left / right\n",
    "    def printPrefix(self):\n",
    "        left = self.first_op.printPrefix()\n",
    "        right = self.second_op.printPrefix()\n",
    "        return self.oprt + \" \" + left + \" \" + right\n",
    "        \n",
    "class UnExp(Exp):\n",
    "    def __init__(self, oprt, operand):\n",
    "        self.oprt = oprt\n",
    "        self.operand = operand\n",
    "    def eval(self):\n",
    "        value = self.operand.eval()\n",
    "        return -value if self.oprt == \"-\" else value\n",
    "    def printPrefix(self):\n",
    "        if self.oprt == \"-\":\n",
    "            return \"-. \" + self.operand.printPrefix()\n",
    "        elif self.oprt == \"+\":\n",
    "            return \"+. \" + self.operand.printPrefix()\n",
    "\n"
   ]
  },
  {
   "cell_type": "code",
   "execution_count": 4,
   "metadata": {},
   "outputs": [],
   "source": [
    "# 15. OOP\n",
    "class Exp: pass\n",
    "class IntLit(Exp):\n",
    "    def __init__(self, num):\n",
    "        self.num = num\n",
    "\n",
    "class FloatLit(Exp):\n",
    "    def __init__(self, num):\n",
    "        self.num = num\n",
    "    \n",
    "class BinExp(Exp):\n",
    "    def __init__(self, first_op, oprt, second_op):\n",
    "        self.first_op = first_op\n",
    "        self.oprt = oprt\n",
    "        self.second_op = second_op\n",
    "    \n",
    "class UnExp(Exp):\n",
    "    def __init__(self, oprt, operand):\n",
    "        self.oprt = oprt\n",
    "        self.operand = operand\n",
    "\n",
    "class Eval:\n",
    "    def visit(self, ctx: Exp):\n",
    "        if type(ctx) is IntLit:\n",
    "            return ctx.num\n",
    "        elif type(ctx) is FloatLit:\n",
    "            return ctx.num\n",
    "        elif type(ctx) is BinExp:\n",
    "            left = self.visit(ctx.first_op)\n",
    "            right = self.visit(ctx.second_op)\n",
    "            if ctx.oprt == \"+\":\n",
    "                return left + right\n",
    "            elif ctx.oprt == \"-\":\n",
    "                return left - right\n",
    "            elif ctx.oprt == \"*\":\n",
    "                return left * right\n",
    "            elif ctx.oprt == \"/\":\n",
    "                return left / right\n",
    "        elif type(ctx) is UnExp:\n",
    "            value = self.visit(ctx.operand)\n",
    "            return -value if ctx.oprt == \"-\" else value\n",
    "\n",
    "class PrintPrefix:\n",
    "    def visit(self, ctx: Exp):\n",
    "        if type(ctx) is IntLit:\n",
    "            return str(ctx.num)\n",
    "        elif type(ctx) is FloatLit:\n",
    "            return str(ctx.num)\n",
    "        elif type(ctx) is BinExp:\n",
    "            left = self.visit(ctx.first_op)\n",
    "            right = self.visit(ctx.second_op)\n",
    "            return ctx.oprt + \" \" + left + \" \" + right\n",
    "        elif type(ctx) is UnExp:\n",
    "            if ctx.oprt == \"-\":\n",
    "                return \"-. \" + self.visit(ctx.operand)\n",
    "            elif self.oprt == \"+\":\n",
    "                return \"+. \" + self.visit(ctx.operand)\n"
   ]
  },
  {
   "cell_type": "code",
   "execution_count": null,
   "metadata": {},
   "outputs": [],
   "source": [
    "# 16. OOP\n",
    "class Exp: pass\n",
    "class IntLit(Exp):\n",
    "    def __init__(self, num):\n",
    "        self.num = num\n",
    "    def accept(self, v): return v.visitIntLit(self)\n",
    "    \n",
    "class FloatLit(Exp):\n",
    "    def __init__(self, num):\n",
    "        self.num = num\n",
    "    def accept(self,v): return v.visitFloatLit(self)\n",
    "    \n",
    "class BinExp(Exp):\n",
    "    def __init__(self, first_op, oprt, second_op):\n",
    "        self.first_op = first_op\n",
    "        self.oprt = oprt\n",
    "        self.second_op = second_op\n",
    "    def accept(self,v): return v.visitBinExp(self)\n",
    "    \n",
    "class UnExp(Exp):\n",
    "    def __init__(self, oprt, operand):\n",
    "        self.oprt = oprt\n",
    "        self.operand = operand\n",
    "    def accept(self,v): return v.visitUnExp(self)\n",
    "\n",
    "class Visitor:\n",
    "    def visit(self, ctx: Exp):\n",
    "        return ctx.accept(self)\n",
    "class Eval(Visitor):\n",
    "    def visitBinExp(self, ctx: BinExp):\n",
    "        left = self.visit(ctx.first_op)\n",
    "        right = self.visit(ctx.second_op)\n",
    "        if ctx.oprt == \"+\":\n",
    "            return left + right\n",
    "        elif ctx.oprt == \"-\":\n",
    "            return left - right\n",
    "        elif ctx.oprt == \"*\":\n",
    "            return left * right\n",
    "        elif ctx.oprt == \"/\":\n",
    "            return left / right\n",
    "    def visitUnExp(self, ctx: UnExp):\n",
    "        value = self.visit(ctx.operand)\n",
    "        return -value if ctx.oprt == \"-\" else value\n",
    "    def visitIntLit(self, ctx: IntLit):\n",
    "        return ctx.num\n",
    "    def visitFloatLit(self, ctx: FloatLit):\n",
    "        return ctx.num   \n",
    "\n",
    "class PrintPrefix(Visitor):\n",
    "    def visitBinExp(self, ctx: BinExp):\n",
    "        left = self.visit(ctx.first_op)\n",
    "        right = self.visit(ctx.second_op)\n",
    "        return ctx.oprt + \" \" + left + \" \" + right\n",
    "    def visitUnExp(self, ctx: UnExp):\n",
    "        if ctx.oprt == \"-\":\n",
    "            return \"-. \" + self.visit(ctx.operand)\n",
    "        elif self.oprt == \"+\":\n",
    "            return \"+. \" + self.visit(ctx.operand)\n",
    "    def visitIntLit(self, ctx: IntLit):\n",
    "        return str(ctx.num)\n",
    "    def visitFloatLit(self, ctx: FloatLit):\n",
    "        return str(ctx.num)  \n"
   ]
  },
  {
   "cell_type": "code",
   "execution_count": null,
   "metadata": {},
   "outputs": [],
   "source": [
    "# 16. OOP\n",
    "class Exp: pass\n",
    "class IntLit(Exp):\n",
    "    def __init__(self, num):\n",
    "        self.num = num\n",
    "    def accept(self, v): return v.visitIntLit(self)\n",
    "    \n",
    "class FloatLit(Exp):\n",
    "    def __init__(self, num):\n",
    "        self.num = num\n",
    "    def accept(self,v): return v.visitFloatLit(self)\n",
    "    \n",
    "class BinExp(Exp):\n",
    "    def __init__(self, first_op, oprt, second_op):\n",
    "        self.first_op = first_op\n",
    "        self.oprt = oprt\n",
    "        self.second_op = second_op\n",
    "    def accept(self,v): return v.visitBinExp(self)\n",
    "    \n",
    "class UnExp(Exp):\n",
    "    def __init__(self, oprt, operand):\n",
    "        self.oprt = oprt\n",
    "        self.operand = operand\n",
    "    def accept(self,v): return v.visitUnExp(self)\n",
    "\n",
    "class Visitor:\n",
    "    def visit(self, ctx: Exp):\n",
    "        return ctx.accept(self)\n",
    "class Eval(Visitor):\n",
    "    def visitBinExp(self, ctx: BinExp):\n",
    "        left = self.visit(ctx.first_op)\n",
    "        right = self.visit(ctx.second_op)\n",
    "        if ctx.oprt == \"+\":\n",
    "            return left + right\n",
    "        elif ctx.oprt == \"-\":\n",
    "            return left - right\n",
    "        elif ctx.oprt == \"*\":\n",
    "            return left * right\n",
    "        elif ctx.oprt == \"/\":\n",
    "            return left / right\n",
    "    def visitUnExp(self, ctx: UnExp):\n",
    "        value = self.visit(ctx.operand)\n",
    "        return -value if ctx.oprt == \"-\" else value\n",
    "    def visitIntLit(self, ctx: IntLit):\n",
    "        return ctx.num\n",
    "    def visitFloatLit(self, ctx: FloatLit):\n",
    "        return ctx.num   \n",
    "\n",
    "class PrintPrefix(Visitor):\n",
    "    def visitBinExp(self, ctx: BinExp):\n",
    "        left = self.visit(ctx.first_op)\n",
    "        right = self.visit(ctx.second_op)\n",
    "        return ctx.oprt + \" \" + left + \" \" + right\n",
    "    def visitUnExp(self, ctx: UnExp):\n",
    "        if ctx.oprt == \"-\":\n",
    "            return \"-. \" + self.visit(ctx.operand)\n",
    "        elif self.oprt == \"+\":\n",
    "            return \"+. \" + self.visit(ctx.operand)\n",
    "    def visitIntLit(self, ctx: IntLit):\n",
    "        return str(ctx.num)\n",
    "    def visitFloatLit(self, ctx: FloatLit):\n",
    "        return str(ctx.num)  \n",
    "    \n",
    "class PrintPostfix(Visitor):\n",
    "    def visitBinExp(self, ctx: BinExp):\n",
    "        left = self.visit(ctx.first_op)\n",
    "        right = self.visit(ctx.second_op)\n",
    "        return left + \" \" + right + \" \" + ctx.oprt\n",
    "    def visitUnExp(self, ctx: UnExp):\n",
    "        if ctx.oprt == \"-\":\n",
    "            return self.visit(ctx.operand) + \" -.\"\n",
    "        elif self.oprt == \"+\":\n",
    "            return self.visit(ctx.operand) + \" +.\"\n",
    "    def visitIntLit(self, ctx: IntLit):\n",
    "        return str(ctx.num)\n",
    "    def visitFloatLit(self, ctx: FloatLit):\n",
    "        return str(ctx.num)  "
   ]
  }
 ],
 "metadata": {
  "kernelspec": {
   "display_name": "Python 3",
   "language": "python",
   "name": "python3"
  },
  "language_info": {
   "codemirror_mode": {
    "name": "ipython",
    "version": 3
   },
   "file_extension": ".py",
   "mimetype": "text/x-python",
   "name": "python",
   "nbconvert_exporter": "python",
   "pygments_lexer": "ipython3",
   "version": "3.12.2"
  }
 },
 "nbformat": 4,
 "nbformat_minor": 2
}
