{
 "cells": [
  {
   "cell_type": "markdown",
   "metadata": {},
   "source": [
    "1. Kiểu dữ liệu bool\n",
    "Ta mở rộng: Python sẽ đánh giá T/F đối với: \n",
    "+ False: đối tượng số = 0, biểu thức nhận giá trị 0, None, list, tuple rỗng, xâu ký tự rỗng, hàm void,\n",
    "hàm trả về giá trị 0\n",
    "+ True: đối tượng số != 0, biểu thức nhận giá trị khác 0, hàm trả về giá trị khác 0 và list, tuple, xâu \n",
    "không rỗng"
   ]
  },
  {
   "cell_type": "code",
   "execution_count": 3,
   "metadata": {},
   "outputs": [
    {
     "data": {
      "text/plain": [
       "(False, True)"
      ]
     },
     "execution_count": 3,
     "metadata": {},
     "output_type": "execute_result"
    }
   ],
   "source": [
    "bool(()), bool([1,2])"
   ]
  },
  {
   "cell_type": "code",
   "execution_count": 5,
   "metadata": {},
   "outputs": [
    {
     "data": {
      "text/plain": [
       "False"
      ]
     },
     "execution_count": 5,
     "metadata": {},
     "output_type": "execute_result"
    }
   ],
   "source": [
    "bool(12 and [1,2,3])\n",
    "bool(33 and \"\")"
   ]
  },
  {
   "cell_type": "code",
   "execution_count": 6,
   "metadata": {},
   "outputs": [
    {
     "data": {
      "text/plain": [
       "[1, 'One', 1, 3, [1, 2, 3]]"
      ]
     },
     "execution_count": 6,
     "metadata": {},
     "output_type": "execute_result"
    }
   ],
   "source": [
    "A = [1, 0, None, \"One\", \"\", (), 1, 3, [1,2,3]]\n",
    "B = []\n",
    "for item in A:\n",
    "    if item:\n",
    "        B.append(item)\n",
    "B"
   ]
  },
  {
   "cell_type": "code",
   "execution_count": 7,
   "metadata": {},
   "outputs": [
    {
     "data": {
      "text/plain": [
       "[0, 2, 1, 3, 8, 0, -1, 10]"
      ]
     },
     "execution_count": 7,
     "metadata": {},
     "output_type": "execute_result"
    }
   ],
   "source": [
    "# Cho trước list A gồm nhiều số bị lặp. Hãy loại bỏ chúng\n",
    "A = [0,0,2,1,3,3,3,3,8,8,0,0,-1,-1,10,10,10,10]\n",
    "B = [A[0]]\n",
    "for i in range(1, len(A)):\n",
    "    if A[i] - A[i-1]:\n",
    "        B.append(A[i])\n",
    "B"
   ]
  },
  {
   "cell_type": "markdown",
   "metadata": {},
   "source": [
    "2. Lệnh if\n",
    "- Trong python, lệnh if đầy đủ gồm: if - (elif)* - else\n",
    "- Khi viết điều kiện chặn của số, ta viết như ngôn ngữ toán: 6 <= d < 7"
   ]
  },
  {
   "cell_type": "code",
   "execution_count": 9,
   "metadata": {},
   "outputs": [
    {
     "data": {
      "text/plain": [
       "'hoc luc gioi'"
      ]
     },
     "execution_count": 9,
     "metadata": {},
     "output_type": "execute_result"
    }
   ],
   "source": [
    "def hocluc(d):\n",
    "    if d < 3:\n",
    "        return \"hoc luc kem\"\n",
    "    elif 3 <= d < 5:\n",
    "        return \"hoc luc yeu\"\n",
    "    elif 5 <= d < 7:\n",
    "        return \"hoc luc trung binh\"\n",
    "    elif 7 <= d < 9:\n",
    "        return \"hoc luc kha\"\n",
    "    else:\n",
    "        return \"hoc luc gioi\"\n",
    "hocluc(10)"
   ]
  },
  {
   "cell_type": "markdown",
   "metadata": {},
   "source": [
    "3. Lệnh while\n",
    "- Lệnh while tổng quát còn có thêm phần else"
   ]
  },
  {
   "cell_type": "code",
   "execution_count": 1,
   "metadata": {},
   "outputs": [
    {
     "name": "stdout",
     "output_type": "stream",
     "text": [
      "10\n",
      "9\n",
      "8\n",
      "7\n",
      "6\n",
      "5\n",
      "4\n",
      "3\n",
      "2\n",
      "1\n",
      "Kết thúc\n"
     ]
    }
   ],
   "source": [
    "n = 10\n",
    "while n > 0:\n",
    "    print(n)\n",
    "    n = n-1\n",
    "else:\n",
    "    print(\"Kết thúc\")"
   ]
  },
  {
   "cell_type": "markdown",
   "metadata": {},
   "source": [
    "4. Nguyên tắc chuyển mạch nhanh (short-circuit operator)\n",
    "+ and: biểu thức đầu tiên là False => kết luận ngay\n",
    "+ or: biểu thức đầu tiên là true => kết luận ngay"
   ]
  },
  {
   "cell_type": "code",
   "execution_count": 6,
   "metadata": {},
   "outputs": [
    {
     "data": {
      "text/plain": [
       "False"
      ]
     },
     "execution_count": 6,
     "metadata": {},
     "output_type": "execute_result"
    }
   ],
   "source": [
    "False and input(\"CC\")\n",
    "x = true and print(1)"
   ]
  }
 ],
 "metadata": {
  "kernelspec": {
   "display_name": "Python 3",
   "language": "python",
   "name": "python3"
  },
  "language_info": {
   "codemirror_mode": {
    "name": "ipython",
    "version": 3
   },
   "file_extension": ".py",
   "mimetype": "text/x-python",
   "name": "python",
   "nbconvert_exporter": "python",
   "pygments_lexer": "ipython3",
   "version": "3.12.1"
  }
 },
 "nbformat": 4,
 "nbformat_minor": 2
}
