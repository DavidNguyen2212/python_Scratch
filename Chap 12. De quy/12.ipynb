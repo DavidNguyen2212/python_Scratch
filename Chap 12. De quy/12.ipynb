{
 "cells": [
  {
   "cell_type": "markdown",
   "metadata": {},
   "source": [
    "1. Khái niệm hàm đệ quy\n",
    "- Hàm getrecursionlimit() trong module sys cho phép chúng ta biết ngưỡng giới hạn được lặp của 1 lệnh\n",
    "- Python3 đã cho phép 3000 lần"
   ]
  },
  {
   "cell_type": "code",
   "execution_count": 1,
   "metadata": {},
   "outputs": [
    {
     "data": {
      "text/plain": [
       "3000"
      ]
     },
     "execution_count": 1,
     "metadata": {},
     "output_type": "execute_result"
    }
   ],
   "source": [
    "import sys\n",
    "sys.getrecursionlimit()"
   ]
  },
  {
   "cell_type": "markdown",
   "metadata": {},
   "source": [
    "2. Thiết lập đệ quy đúng\n",
    "- Phải làm sao cho tham biến của hàm đệ quy thay đổi trong lời gọi lặp\n",
    "- Thêm điều kiện dừng cho lặp"
   ]
  },
  {
   "cell_type": "code",
   "execution_count": 3,
   "metadata": {},
   "outputs": [
    {
     "data": {
      "text/plain": [
       "55"
      ]
     },
     "execution_count": 3,
     "metadata": {},
     "output_type": "execute_result"
    }
   ],
   "source": [
    "# Tính dãy Fibonacci\n",
    "def fi(n):\n",
    "    if n == 1:\n",
    "        return 1\n",
    "    elif n == 2:\n",
    "        return 1\n",
    "    else:\n",
    "        return fi(n-1) + fi(n-2)\n",
    "fi(10)"
   ]
  },
  {
   "cell_type": "markdown",
   "metadata": {},
   "source": [
    "# Tính giai thừa số tự nhiên"
   ]
  },
  {
   "cell_type": "code",
   "execution_count": 8,
   "metadata": {},
   "outputs": [
    {
     "data": {
      "text/plain": [
       "402387260077093773543702433923003985719374864210714632543799910429938512398629020592044208486969404800479988610197196058631666872994808558901323829669944590997424504087073759918823627727188732519779505950995276120874975462497043601418278094646496291056393887437886487337119181045825783647849977012476632889835955735432513185323958463075557409114262417474349347553428646576611667797396668820291207379143853719588249808126867838374559731746136085379534524221586593201928090878297308431392844403281231558611036976801357304216168747609675871348312025478589320767169132448426236131412508780208000261683151027341827977704784635868170164365024153691398281264810213092761244896359928705114964975419909342221566832572080821333186116811553615836546984046708975602900950537616475847728421889679646244945160765353408198901385442487984959953319101723355556602139450399736280750137837615307127761926849034352625200015888535147331611702103968175921510907788019393178114194545257223865541461062892187960223838971476088506276862967146674697562911234082439208160153780889893964518263243671616762179168909779911903754031274622289988005195444414282012187361745992642956581746628302955570299024324153181617210465832036786906117260158783520751516284225540265170483304226143974286933061690897968482590125458327168226458066526769958652682272807075781391858178889652208164348344825993266043367660176999612831860788386150279465955131156552036093988180612138558600301435694527224206344631797460594682573103790084024432438465657245014402821885252470935190620929023136493273497565513958720559654228749774011413346962715422845862377387538230483865688976461927383814900140767310446640259899490222221765904339901886018566526485061799702356193897017860040811889729918311021171229845901641921068884387121855646124960798722908519296819372388642614839657382291123125024186649353143970137428531926649875337218940694281434118520158014123344828015051399694290153483077644569099073152433278288269864602789864321139083506217095002597389863554277196742822248757586765752344220207573630569498825087968928162753848863396909959826280956121450994871701244516461260379029309120889086942028510640182154399457156805941872748998094254742173582401063677404595741785160829230135358081840096996372524230560855903700624271243416909004153690105933983835777939410970027753472000000000000000000000000000000000000000000000000000000000000000000000000000000000000000000000000000000000000000000000000000000000000000000000000000000000000000000000000000000000000000000000000000000000000000000000000000000000000000000000000000000000"
      ]
     },
     "execution_count": 8,
     "metadata": {},
     "output_type": "execute_result"
    }
   ],
   "source": [
    "def fac(n):\n",
    "    if n == 0:\n",
    "        return 1\n",
    "    else:\n",
    "        return n*fac(n-1)\n",
    "fac(1000)"
   ]
  },
  {
   "cell_type": "code",
   "execution_count": null,
   "metadata": {},
   "outputs": [],
   "source": [
    "def countdown(n):\n",
    "    if n > 0:\n",
    "        print(n)\n",
    "        countdown(n-1)\n",
    "    else:\n",
    "        return\n",
    "    \n",
    "countdown(100)"
   ]
  },
  {
   "cell_type": "code",
   "execution_count": 18,
   "metadata": {},
   "outputs": [
    {
     "name": "stdout",
     "output_type": "stream",
     "text": [
      "Xau nguoc cua \"doi la the thoi\": \n"
     ]
    },
    {
     "data": {
      "text/plain": [
       "'ioht eht al iod'"
      ]
     },
     "execution_count": 18,
     "metadata": {},
     "output_type": "execute_result"
    }
   ],
   "source": [
    "def XauN(s):\n",
    "    if s == \"\":\n",
    "        return \"\"\n",
    "    else:\n",
    "        return s[-1] + XauN(s[:-1])\n",
    "s = \"doi la the thoi\"\n",
    "print(f\"Xau nguoc cua \\\"{s}\\\": \")\n",
    "XauN(s)"
   ]
  },
  {
   "cell_type": "code",
   "execution_count": 11,
   "metadata": {},
   "outputs": [
    {
     "data": {
      "text/plain": [
       "[5, 4, 3, 2, 1, 0]"
      ]
     },
     "execution_count": 11,
     "metadata": {},
     "output_type": "execute_result"
    }
   ],
   "source": [
    "def DayN(A):\n",
    "    if A == []:\n",
    "        return []\n",
    "    else:\n",
    "        return A[len(A)-1 :] + DayN(A[:len(A)-1])\n",
    "    \n",
    "DayN([0,1,2,3,4,5])"
   ]
  },
  {
   "cell_type": "markdown",
   "metadata": {},
   "source": [
    "# 3. Một vài ứng dụng đệ quy"
   ]
  },
  {
   "cell_type": "code",
   "execution_count": 16,
   "metadata": {},
   "outputs": [
    {
     "data": {
      "text/plain": [
       "[-1, 1, 2, 4, 18, 33, 55, 231, 8992, 1000000.0]"
      ]
     },
     "execution_count": 16,
     "metadata": {},
     "output_type": "execute_result"
    }
   ],
   "source": [
    "# Sắp xếp trộn\n",
    "def merge(left, right):\n",
    "    kq = []\n",
    "    while left != [] and right != []:\n",
    "        if len(left) > 0 and len(right) > 0:\n",
    "            if left[0] < right[0]:\n",
    "                kq.append(left[0])\n",
    "                left = left[1:]\n",
    "            else:\n",
    "                kq.append(right[0])\n",
    "                right = right[1:]\n",
    "        if len(left) == 0:\n",
    "            kq.extend(right)\n",
    "            break\n",
    "        if len(right) == 0:\n",
    "            kq.extend(left)\n",
    "            break\n",
    "    return kq\n",
    "\n",
    "def merge_sort(A):\n",
    "    if len(A) <= 1:\n",
    "        return A\n",
    "\n",
    "    left = A[:len(A) // 2]\n",
    "    right = A[len(A) // 2 :]\n",
    "    sortedleft = merge_sort(left)\n",
    "    sortedright = merge_sort(right)\n",
    "    return merge(sortedleft, sortedright)\n",
    "\n",
    "L = [1,2,33,4,55,8992,231,1e6,18, -1]\n",
    "merge_sort(L)"
   ]
  },
  {
   "cell_type": "code",
   "execution_count": 23,
   "metadata": {},
   "outputs": [
    {
     "data": {
      "text/plain": [
       "[-1, 1, 2, 4, 18, 33, 55, 231, 8992, 1000000.0]"
      ]
     },
     "execution_count": 23,
     "metadata": {},
     "output_type": "execute_result"
    }
   ],
   "source": [
    "# Sắp xếp nhanh (Quick sort)\n",
    "def partition(A, l, r):\n",
    "    pivot = A[r]\n",
    "    i = l - 1\n",
    "    for j in range (l, r):\n",
    "        if A[j] < pivot:\n",
    "            i = i + 1\n",
    "            A[i], A[j] = A[j], A[i]\n",
    "    if A[i+1] > A[r]:\n",
    "        A[i+1], A[r] = A[r], A[i+1]\n",
    "    return i+1\n",
    "def quick_sort(A, l, r):\n",
    "    if l < r:\n",
    "        i = partition(A, l, r)\n",
    "        quick_sort(A, l, i-1)\n",
    "        quick_sort(A, i+1, r)\n",
    "L = [1,2,33,4,55,8992,231,1e6,18, -1]\n",
    "quick_sort(L, 0, len(L)-1)\n",
    "L"
   ]
  },
  {
   "cell_type": "code",
   "execution_count": null,
   "metadata": {},
   "outputs": [],
   "source": [
    "# Sinh hoán vị ngẫu nhiên\n",
    "def insertNum(n, A, k):\n",
    "    newlist = []\n",
    "    if k == 0:\n",
    "        newlist = [n] + A\n",
    "    elif k == len(A) + 1:\n",
    "        newlist = A + [n]\n",
    "    else:\n",
    "        newlist = A[:k] + [n] + A[k:]\n",
    "    return newlist\n",
    "def insertALL(n, A):\n",
    "    newlist = []\n",
    "    for k in range(len(A) + 1):\n",
    "        newlist.append(insertNum(n, A, k))\n",
    "    return newlist\n",
    "def permutation(n):\n",
    "    if n==1:\n",
    "        return [1]\n",
    "    elif n==2:\n",
    "        return [[1,2], [2,1]]\n",
    "    else:\n",
    "        new = []\n",
    "        A = permutation(n-1)\n",
    "        for pe in A:\n",
    "            new = new + insertALL(n, pe)\n",
    "        return new\n",
    "    \n",
    "A = permutation(8)\n",
    "print(A)"
   ]
  }
 ],
 "metadata": {
  "kernelspec": {
   "display_name": "Python 3",
   "language": "python",
   "name": "python3"
  },
  "language_info": {
   "codemirror_mode": {
    "name": "ipython",
    "version": 3
   },
   "file_extension": ".py",
   "mimetype": "text/x-python",
   "name": "python",
   "nbconvert_exporter": "python",
   "pygments_lexer": "ipython3",
   "version": "3.12.1"
  }
 },
 "nbformat": 4,
 "nbformat_minor": 2
}
