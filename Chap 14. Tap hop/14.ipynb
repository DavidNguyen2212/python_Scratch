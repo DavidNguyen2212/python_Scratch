{
 "cells": [
  {
   "cell_type": "markdown",
   "metadata": {},
   "source": [
    "1. Khởi tạo tập hợp\n",
    "- Tập hợp là một cặp {} chứa bên trong các phần tử *phân biệt* dạng không thay đổi (số, logic, xâu, tuple)\n",
    "- Không có chỉ số như list nhưng vẫn duyệt for và in được\n",
    "- Tập băng (frozenset) là kiểu tương tự tập hợp và có hỗ trợ các phần tử dạng list. Không đề cập ở đây"
   ]
  },
  {
   "cell_type": "code",
   "execution_count": 1,
   "metadata": {},
   "outputs": [
    {
     "data": {
      "text/plain": [
       "set"
      ]
     },
     "execution_count": 1,
     "metadata": {},
     "output_type": "execute_result"
    }
   ],
   "source": [
    "A ={1,2,3,4}\n",
    "type(A)"
   ]
  },
  {
   "cell_type": "code",
   "execution_count": 2,
   "metadata": {},
   "outputs": [
    {
     "data": {
      "text/plain": [
       "{1, 2, 3, 4, 5}"
      ]
     },
     "execution_count": 2,
     "metadata": {},
     "output_type": "execute_result"
    }
   ],
   "source": [
    "# Theo định nghĩa, python sẽ loại các phần tử lặp\n",
    "A = {1,2,1,3,4,4,5}\n",
    "A"
   ]
  },
  {
   "cell_type": "code",
   "execution_count": 3,
   "metadata": {},
   "outputs": [
    {
     "data": {
      "text/plain": [
       "[1, 2, 3, 4, 5, 6, 7, 8]"
      ]
     },
     "execution_count": 3,
     "metadata": {},
     "output_type": "execute_result"
    }
   ],
   "source": [
    "# Mẹo khử phần tử trùng nhau trong list\n",
    "a = [1,2,3,4,5,5,5,6,7,8,6]\n",
    "# dùng các phương thức \"class hóa\"\n",
    "c = set(a)\n",
    "a = list(c)\n",
    "a"
   ]
  },
  {
   "cell_type": "code",
   "execution_count": null,
   "metadata": {},
   "outputs": [],
   "source": [
    "# Để tạo tập rỗng, ta dùng khởi tạo set(), không dùng {} vì gây nhầm lẫn với từ điển\n",
    "d = {}\n",
    "se = set()\n",
    "se.add(1)\n",
    "# Hàm set() có thể biến các dữ liệu container về set. đối với dict, nó dùng container ds khóa"
   ]
  },
  {
   "cell_type": "markdown",
   "metadata": {},
   "source": [
    "# Chức năng set comprehension (SC) - tương tự LC\n",
    "SC = {biểu thức chung **for** iterator **in** sequence **if** điều kiện}"
   ]
  },
  {
   "cell_type": "code",
   "execution_count": 4,
   "metadata": {},
   "outputs": [
    {
     "data": {
      "text/plain": [
       "{97, 98, 99, 100, 101, 102}"
      ]
     },
     "execution_count": 4,
     "metadata": {},
     "output_type": "execute_result"
    }
   ],
   "source": [
    "A = \"abcdef\"\n",
    "S = {ord(char) for char in A}\n",
    "S"
   ]
  },
  {
   "cell_type": "code",
   "execution_count": 5,
   "metadata": {},
   "outputs": [
    {
     "data": {
      "text/plain": [
       "{9409, 9604, 9801, 10000, 10201, 10404}"
      ]
     },
     "execution_count": 5,
     "metadata": {},
     "output_type": "execute_result"
    }
   ],
   "source": [
    "A = [1, 2, -4, -5, 0, 11,2222]\n",
    "S = {x*x for x in S if x > 0}\n",
    "S"
   ]
  },
  {
   "cell_type": "code",
   "execution_count": 12,
   "metadata": {},
   "outputs": [
    {
     "data": {
      "text/plain": [
       "{11}"
      ]
     },
     "execution_count": 12,
     "metadata": {},
     "output_type": "execute_result"
    }
   ],
   "source": [
    "A = [1, 2, -4, -5, 0, 11,2222]\n",
    "B = [1,2, -4]\n",
    "S = {x for x in A if x not in B}\n",
    "T = {x for x in A if 5 < x < 12}\n",
    "S\n",
    "T"
   ]
  },
  {
   "cell_type": "markdown",
   "metadata": {},
   "source": [
    "## 2. Thêm bớt phần tử của tập hợp"
   ]
  },
  {
   "cell_type": "code",
   "execution_count": 13,
   "metadata": {},
   "outputs": [],
   "source": [
    "# Hàm add\n",
    "A = set()\n",
    "A.add(1)\n",
    "A.add(\"A\")"
   ]
  },
  {
   "cell_type": "code",
   "execution_count": 15,
   "metadata": {},
   "outputs": [
    {
     "name": "stdout",
     "output_type": "stream",
     "text": [
      "{1, 'A', 'h'}\n"
     ]
    },
    {
     "data": {
      "text/plain": [
       "{1, 'A'}"
      ]
     },
     "execution_count": 15,
     "metadata": {},
     "output_type": "execute_result"
    }
   ],
   "source": [
    "# Hàm remove\n",
    "A.add(\"h\")\n",
    "print(A)\n",
    "A.remove(\"h\")\n",
    "A"
   ]
  },
  {
   "cell_type": "code",
   "execution_count": 28,
   "metadata": {},
   "outputs": [
    {
     "name": "stdout",
     "output_type": "stream",
     "text": [
      "{10}\n",
      "{10, 12}\n"
     ]
    },
    {
     "data": {
      "text/plain": [
       "set()"
      ]
     },
     "execution_count": 28,
     "metadata": {},
     "output_type": "execute_result"
    }
   ],
   "source": [
    "# Tập hợp cũng là kiểu container như list hay dict, cho nên nó cần phương thức Copy để sao lưu dữ liệu\n",
    "# sang cho đối tượng khác\n",
    "C = A\n",
    "A.add(10)\n",
    "print(C)\n",
    "B = A.copy()\n",
    "B.add(12)\n",
    "A.clear()\n",
    "print(B)"
   ]
  },
  {
   "cell_type": "code",
   "execution_count": 23,
   "metadata": {},
   "outputs": [
    {
     "name": "stdout",
     "output_type": "stream",
     "text": [
      "{1, 10, 'A', 12}\n"
     ]
    }
   ],
   "source": [
    "A.add(\"H\")\n",
    "print(B)"
   ]
  },
  {
   "cell_type": "markdown",
   "metadata": {},
   "source": [
    "## 3. Quan hệ tập hợp"
   ]
  },
  {
   "cell_type": "code",
   "execution_count": 35,
   "metadata": {},
   "outputs": [
    {
     "data": {
      "text/plain": [
       "True"
      ]
     },
     "execution_count": 35,
     "metadata": {},
     "output_type": "execute_result"
    }
   ],
   "source": [
    "# a. Nằm trong\n",
    "# Thuộc\n",
    "A = {-3, 1,2,3,4,666}\n",
    "2 in A"
   ]
  },
  {
   "cell_type": "code",
   "execution_count": 37,
   "metadata": {},
   "outputs": [
    {
     "data": {
      "text/plain": [
       "False"
      ]
     },
     "execution_count": 37,
     "metadata": {},
     "output_type": "execute_result"
    }
   ],
   "source": [
    "# là tập con của\n",
    "B = {1,2,3,4,5,666, (1,3), 999}\n",
    "A.issubset(B)"
   ]
  },
  {
   "cell_type": "code",
   "execution_count": 33,
   "metadata": {},
   "outputs": [
    {
     "data": {
      "text/plain": [
       "True"
      ]
     },
     "execution_count": 33,
     "metadata": {},
     "output_type": "execute_result"
    }
   ],
   "source": [
    "B.issuperset(A)"
   ]
  },
  {
   "cell_type": "code",
   "execution_count": 38,
   "metadata": {},
   "outputs": [
    {
     "name": "stdout",
     "output_type": "stream",
     "text": [
      "{1, 2, 3, 4, 5, 999, 666, (1, 3), -3}\n"
     ]
    },
    {
     "data": {
      "text/plain": [
       "{(1, 3), -3, 1, 2, 3, 4, 5, 666, 999}"
      ]
     },
     "execution_count": 38,
     "metadata": {},
     "output_type": "execute_result"
    }
   ],
   "source": [
    "# b. Phép hợp: | hoặc gọi phương thức union. Khác về thứ tự phần tử\n",
    "# Hai phép này đều trả về 1 tập mới\n",
    "print(A | B)    \n",
    "A.union(B)     "
   ]
  },
  {
   "cell_type": "code",
   "execution_count": 40,
   "metadata": {},
   "outputs": [
    {
     "name": "stdout",
     "output_type": "stream",
     "text": [
      "{1, 2, 3, 4, 666}\n"
     ]
    },
    {
     "data": {
      "text/plain": [
       "{1, 2, 3, 4, 666}"
      ]
     },
     "execution_count": 40,
     "metadata": {},
     "output_type": "execute_result"
    }
   ],
   "source": [
    "# c. Phép giao: & hoặc gọi pt intersection. \n",
    "print(A & B)\n",
    "A.intersection(B)"
   ]
  },
  {
   "cell_type": "code",
   "execution_count": 41,
   "metadata": {},
   "outputs": [
    {
     "name": "stdout",
     "output_type": "stream",
     "text": [
      "{-3}\n"
     ]
    },
    {
     "data": {
      "text/plain": [
       "{-3}"
      ]
     },
     "execution_count": 41,
     "metadata": {},
     "output_type": "execute_result"
    }
   ],
   "source": [
    "# d. Phép trừ: - hoặc gọi difference\n",
    "print(A-B)\n",
    "A.difference(B)"
   ]
  },
  {
   "cell_type": "code",
   "execution_count": 43,
   "metadata": {},
   "outputs": [
    {
     "name": "stdout",
     "output_type": "stream",
     "text": [
      "{2, 3, 5, 6, 7, 9, 10}\n"
     ]
    },
    {
     "data": {
      "text/plain": [
       "{2, 3, 5, 6, 7, 9, 10}"
      ]
     },
     "execution_count": 43,
     "metadata": {},
     "output_type": "execute_result"
    }
   ],
   "source": [
    "# e. Phép trừ đối xứng: ^ hoặc gọi symmetric difference\n",
    "# tức là A ^ B = (A-B) | (B-A) = (A|B) - (A&B)\n",
    "A = {1, 3, 5, 6, 7, 8}\n",
    "B = {1, 2, 8, 9, 10}\n",
    "print(A ^ B)\n",
    "A.symmetric_difference(B)\n"
   ]
  },
  {
   "cell_type": "markdown",
   "metadata": {},
   "source": [
    "## TỔNG KẾT\n",
    "- immutable: int, float, str, bool, tuple\n",
    "- mutable: list, dict, set\n",
    "* Thành phần của list và tupe có thể là bất cứ kiểu nào\n",
    "* Thành phần của set  có thể là bất kỳ (hashable type | immutable) trừ set, list, dict\n",
    "* ĐỐi với dict, ràng buộc là key phải là immutable"
   ]
  }
 ],
 "metadata": {
  "kernelspec": {
   "display_name": "Python 3",
   "language": "python",
   "name": "python3"
  },
  "language_info": {
   "codemirror_mode": {
    "name": "ipython",
    "version": 3
   },
   "file_extension": ".py",
   "mimetype": "text/x-python",
   "name": "python",
   "nbconvert_exporter": "python",
   "pygments_lexer": "ipython3",
   "version": "3.12.1"
  }
 },
 "nbformat": 4,
 "nbformat_minor": 2
}
